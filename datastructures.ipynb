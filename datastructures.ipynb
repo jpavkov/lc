{
 "cells": [
  {
   "cell_type": "markdown",
   "metadata": {},
   "source": [
    "**Table of contents**<a id='toc0_'></a>    \n",
    "- [list](#toc1_)    \n",
    "      - [Common methods for lists](#toc1_1_1_1_)    \n",
    "      - [Working with indices, loops and operations on lists](#toc1_1_1_2_)    \n",
    "      - [List comprehensions](#toc1_1_1_3_)    \n",
    "      - [Lists + other structures](#toc1_1_1_4_)    \n",
    "- [tuple](#toc2_)    \n",
    "      - [Common Methods, indexing and looping for tuples](#toc2_1_1_1_)    \n",
    "- [set](#toc3_)    \n",
    "      - [Common methods for sets](#toc3_1_1_1_)    \n",
    "- [dictionary](#toc4_)    \n",
    "      - [Common methods](#toc4_1_1_1_)    \n",
    "      - [Dictionaries and strings](#toc4_1_1_2_)    \n",
    "- [string](#toc5_)    \n",
    "- [queue](#toc6_)    \n",
    "- [array](#toc7_)    \n",
    "- [DataFrame](#toc8_)    \n",
    "- [linked list](#toc9_)    \n",
    "- [tree](#toc10_)    \n",
    "- [graph](#toc11_)    \n",
    "\n",
    "<!-- vscode-jupyter-toc-config\n",
    "\tnumbering=false\n",
    "\tanchor=true\n",
    "\tflat=false\n",
    "\tminLevel=1\n",
    "\tmaxLevel=6\n",
    "\t/vscode-jupyter-toc-config -->\n",
    "<!-- THIS CELL WILL BE REPLACED ON TOC UPDATE. DO NOT WRITE YOUR TEXT IN THIS CELL -->"
   ]
  },
  {
   "cell_type": "markdown",
   "metadata": {},
   "source": [
    "# <a id='toc1_'></a>[list](#toc0_)\n",
    "Lists are mutable, ordered and dynamic in size. They are flexible, allowing for multiple data types within the same list. A list is great for a variety of operations like appending, removing, slicing and sorting. Below are the primary built-in methods that are used to create and manipulate lists."
   ]
  },
  {
   "cell_type": "markdown",
   "metadata": {},
   "source": [
    "#### <a id='toc1_1_1_1_'></a>[Common methods for lists](#toc0_)\n",
    "A list is instantiated by defining elements within square brackets like this `my_list = [1, 2, 3, 4]`, or by using the `list()` constructor with an iterable, such as `list_from_tuple = list((5, 6, 7))`. An empty list is created using empty square brackets like this `empty_list = []`.\n",
    "\n",
    "Common operations performed on lists include:\n",
    "- **Appending** using the `.append(item)` method to add an item to the end of the list.\n",
    "- **Extending** using the `.extend(iterable)` method to add all items from an iterable to the end of the list.\n",
    "- **Inserting** at a specific index with `.insert(index, item)` which inserts the item at the specified index.\n",
    "- **Removing** an item with `.remove(item)`, which removes the first occurrence of the item.\n",
    "- **Popping** an item from a specific index with `.pop(index)`, which removes and returns the item at the index, or from the end if no index is specified.\n",
    "- **Indexing** to find the first index of an item with `.index(item)`.\n",
    "- **Counting** the occurrences of an item with `.count(item)`.\n",
    "- **Sorting** the list with `.sort()`, which modifies the list in place.\n",
    "- **Reversing** the order of items in the list with `.reverse()`.\n",
    "- **Copying** the list with `.copy()`, which returns a shallow copy of the list.\n",
    "- **Clearing** all items from the list with `.clear()`.\n",
    "\n",
    "Lists support iteration and can be used effectively in loops. They allow slicing to retrieve parts of the list and are dynamic in size, which makes them highly flexible for operations that require frequent modifications. Lists are ideal for ordered collections that need to be modified frequently, such as stacks. They also allow multiple data types within the same list, making them incredibly versatile for various programming tasks."
   ]
  },
  {
   "cell_type": "code",
   "execution_count": null,
   "metadata": {},
   "outputs": [],
   "source": [
    "numbers = [10, 20, 30, 40] # Creating a list of integers\n",
    "numbers.append(50) # Appending an item\n",
    "print(\"After append:\", numbers)  # Output: [10, 20, 30, 40, 50]\n",
    "\n",
    "numbers.extend([60, 70]) # Extending the list\n",
    "print(\"After extend:\", numbers)  # Output: [10, 20, 30, 40, 50, 60, 70]\n",
    "\n",
    "numbers.insert(2, 25) # Inserting an item\n",
    "print(\"After insert:\", numbers)  # Output: [10, 20, 25, 30, 40, 50, 60, 70]\n",
    "\n",
    "numbers.remove(40) # Removing an item\n",
    "print(\"After remove:\", numbers)  # Output: [10, 20, 25, 30, 50, 60, 70]\n",
    "\n",
    "popped_item = numbers.pop(3) # Popping an item\n",
    "print(\"Popped item:\", popped_item)  # Output: 30\n",
    "print(\"After pop:\", numbers)        # Output: [10, 20, 25, 50, 60, 70]\n",
    "\n",
    "index = numbers.index(25) # Finding the index of an item\n",
    "print(\"Index of 25:\", index)  # Output: 2\n",
    "\n",
    "count = numbers.count(20) # Counting the occurrences of an item\n",
    "print(\"Count of 20:\", count)  # Output: 1\n",
    "\n",
    "numbers.sort() # Sorting the list\n",
    "print(\"After sort:\", numbers)  # Output: [10, 20, 25, 50, 60, 70]\n",
    "\n",
    "numbers.reverse() # Reversing the list\n",
    "print(\"After reverse:\", numbers)  # Output: [70, 60, 50, 25, 20, 10]\n",
    "\n",
    "numbers_copy = numbers.copy() # Copying the list\n",
    "print(\"Copy of numbers:\", numbers_copy)  # Output: [70, 60, 50, 25, 20, 10]\n",
    "\n",
    "numbers.clear() # Clearing the list\n",
    "print(\"After clear:\", numbers)  # Output: []"
   ]
  },
  {
   "cell_type": "markdown",
   "metadata": {},
   "source": [
    "#### <a id='toc1_1_1_2_'></a>[Working with indices, loops and operations on lists](#toc0_)\n",
    "Below are common ways to work with the index of a list to access a specific element, or a range of elements. You can also modify elements based on an index."
   ]
  },
  {
   "cell_type": "code",
   "execution_count": null,
   "metadata": {},
   "outputs": [],
   "source": [
    "my_list = [10, 20, 30, 40]\n",
    "print(my_list[1])  # Output: 20\n",
    "\n",
    "print(my_list[1:3])  # Output: [20, 30]\n",
    "\n",
    "my_list[2] = 35\n",
    "print(my_list)  # Output: [10, 20, 35, 40]\n",
    "\n",
    "my_list[1:3] = [25, 30]\n",
    "print(my_list)  # Output: [10, 25, 30, 40]\n",
    "\n",
    "for i in range(0, len(my_list)):\n",
    "    print(i)\n",
    "\n",
    "for num in my_list:\n",
    "    print(num)\n",
    "\n",
    "for i, num in enumerate(my_list):\n",
    "    print(f\"the value at position {i} is {num}.\")\n",
    "\n",
    "for i in range(len(my_list) - 1, -1, -1):\n",
    "    print(i)\n",
    "    print(my_list[i])\n",
    "\n",
    "print(min(my_list))\n",
    "print(max(my_list))\n",
    "print(sum(my_list))\n",
    "print(len(my_list))\n",
    "print(sum(my_list) / len(my_list))\n",
    "print(sorted(my_list))\n",
    "print(*reversed(my_list))\n",
    "print(list(reversed(my_list)))"
   ]
  },
  {
   "cell_type": "markdown",
   "metadata": {},
   "source": [
    "#### <a id='toc1_1_1_3_'></a>[List comprehensions](#toc0_)\n",
    "These are valuable for performing an operation on each member of a list or filtering."
   ]
  },
  {
   "cell_type": "code",
   "execution_count": null,
   "metadata": {},
   "outputs": [],
   "source": [
    "my_list = [11, 12, 13, 14, 55, 66]\n",
    "squared = [x**2 for x in my_list]\n",
    "print(squared)\n",
    "\n",
    "filtered = [x for x in my_list if x**2 > 145]\n",
    "print(filtered)\n",
    "\n",
    "my_list = [1, 2, 3, 4, 5, 6]\n",
    "window_size = 3\n",
    "rolling_sums = [sum(my_list[i:i+window_size]) for i in range(len(my_list) - window_size + 1)]\n",
    "print(rolling_sums)  # Output: [6, 9, 12, 15]\n",
    "cumulative_sums = [sum(my_list[:i+1]) for i in range(len(my_list))]\n",
    "print(cumulative_sums)  # Output: [1, 3, 6, 10, 15, 21]\n"
   ]
  },
  {
   "cell_type": "markdown",
   "metadata": {},
   "source": [
    "#### <a id='toc1_1_1_4_'></a>[Lists + other structures](#toc0_)\n",
    "It is common to use a list by converting it to other data structures, or to have other data structures converted to a list. These operations are typically performed when a list has attributes that are needed, or another structure has desirable attributes. An example would be to turn a list into a set, where repeated elements are discarded by default and only a single instance of each element remains."
   ]
  },
  {
   "cell_type": "code",
   "execution_count": null,
   "metadata": {},
   "outputs": [],
   "source": [
    "my_list = [1, 2, 2, 3, 4, 4, 5] # list to set\n",
    "my_set = set(my_list)\n",
    "print(my_set)  # Output: {1, 2, 3, 4, 5}\n",
    "\n",
    "my_set = {1, 2, 3, 4, 5} # set to list\n",
    "my_list = list(my_set)\n",
    "print(my_list)  # Output: [1, 2, 3, 4, 5]\n",
    "\n",
    "my_string = \"hello\" # string to list\n",
    "char_list = list(my_string)\n",
    "print(char_list)  # Output: ['h', 'e', 'l', 'l', 'o']\n",
    "\n",
    "my_string = \"hello world\" # string words to list\n",
    "word_list = my_string.split()\n",
    "print(word_list)  # Output: ['hello', 'world']\n",
    "\n",
    "word_list = [\"hello\", \"world\"] # list to string\n",
    "my_string = \" \".join(word_list)\n",
    "print(my_string)  # Output: \"hello world\"\n",
    "\n",
    "my_tuple = (1, 2, 3) # tuple to list\n",
    "my_list = list(my_tuple)\n",
    "print(my_list)  # Output: [1, 2, 3]\n",
    "\n",
    "my_list = [1, 2, 3] # list to tuple\n",
    "my_tuple = tuple(my_list)\n",
    "print(my_tuple)  # Output: (1, 2, 3)\n",
    "\n",
    "## dictionary operations\n",
    "my_dict = {'a': 1, 'b': 2, 'c': 3}\n",
    "keys_list = list(my_dict.keys())\n",
    "print(keys_list)  # Output: ['a', 'b', 'c']\n",
    "values_list = list(my_dict.values())\n",
    "print(values_list)  # Output: [1, 2, 3]\n",
    "items_list = list(my_dict.items())\n",
    "print(items_list)  # Output: [('a', 1), ('b', 2), ('c', 3)]\n",
    "\n",
    "## nested lists\n",
    "nested_list = [[1, 2, 3], [4, 5, 6], [7, 8, 9]]\n",
    "print(nested_list[1])       # Output: [4, 5, 6]\n",
    "print(nested_list[1][2])    # Output: 6\n",
    "nested_list = [[1, 2, 3], [4, 5, 6], [7, 8, 9]]\n",
    "flat_list = [item for sublist in nested_list for item in sublist]\n",
    "print(flat_list)  # Output: [1, 2, 3, 4, 5, 6, 7, 8, 9]"
   ]
  },
  {
   "cell_type": "markdown",
   "metadata": {},
   "source": [
    "# <a id='toc2_'></a>[tuple](#toc0_)\n",
    "Tuples are immutable (**unlike lists**), ordered, and fixed in size (**also unlike lists**). They provide a reliable structure for storing diverse data, making them excellent for data integrity and use as dictionary keys. Tuples support a variety of operations like indexing, counting, and slicing but cannot be altered once created, ensuring consistency throughout their usage. Below are the primary methods and operations used to create and utilize tuples effectively."
   ]
  },
  {
   "cell_type": "markdown",
   "metadata": {},
   "source": [
    "#### <a id='toc2_1_1_1_'></a>[Common Methods, indexing and looping for tuples](#toc0_)\n",
    "A tuple is instantiated by defining elements within parentheses like this `my_tuple = (1, 2, 3)`, or without parentheses using only commas like this `another_tuple = 4, 5, 6`. Tuples can also be created from other iterables using the tuple constructor like this `tuple_from_list = tuple([7, 8, 9])`. An empty tuple is created like this `empty_tuple = ()`, and a single element tuple needs a trailing comma, e.g., `single_element_tuple = (10,)`.\n",
    "\n",
    "Common operations performed on tuples include:\n",
    "- **Concatenation** using the `+` operator, which combines tuples.\n",
    "- **Repetition** using the `*` operator to repeat tuples a specified number of times.\n",
    "- **Indexing** to access elements, and **slicing** to obtain parts of the tuple.\n",
    "- **`count(x)`** to determine how many times `x` appears in the tuple.\n",
    "- **`index(x)`** to find the first index of `x` in the tuple.\n",
    "\n",
    "Tuples support iteration and can be used in loops. Membership testing with `in` and `not in` checks if an item exists in the tuple. Functions like `len()`, `max()`, and `min()` provide length and extremum values respectively. Due to their immutability, tuples **do not** have methods like `append`, `extend`, or `remove` that modify the structure, making them ideal for fixed data storage. Tuples are particularly useful in situations where data integrity is crucial, as they cannot be changed after creation. Moreover, their ability to be used as keys in dictionaries (because of their immutability) makes them versatile in various applications involving data manipulation and storage."
   ]
  },
  {
   "cell_type": "code",
   "execution_count": null,
   "metadata": {},
   "outputs": [],
   "source": [
    "# Define tuples\n",
    "tuple1 = (1, 2, 3)\n",
    "tuple2 = (4, 5, 6)\n",
    "\n",
    "# Concatenation\n",
    "concatenated_tuple = tuple1 + tuple2\n",
    "print(\"Concatenated Tuple:\", concatenated_tuple)\n",
    "\n",
    "# Repetition\n",
    "repeated_tuple = tuple1 * 3\n",
    "print(\"Repeated Tuple:\", repeated_tuple)\n",
    "\n",
    "# Membership test\n",
    "exists = 2 in tuple1\n",
    "print(\"2 in Tuple1:\", exists)\n",
    "\n",
    "# Indexing\n",
    "first_element = tuple1[0]\n",
    "print(\"First element of Tuple1:\", first_element)\n",
    "\n",
    "# Slicing\n",
    "slice_tuple = tuple1[1:4]\n",
    "print(\"Slice of Tuple1 from index 1 to 3:\", slice_tuple)\n",
    "\n",
    "# Iteration\n",
    "print(\"Iterating through Tuple1:\")\n",
    "for item in tuple1:\n",
    "    print(item)\n",
    "\n",
    "# Length\n",
    "length = len(tuple1)\n",
    "print(\"Length of Tuple1:\", length)\n",
    "\n",
    "# Max/Min\n",
    "maximum = max(tuple1)\n",
    "minimum = min(tuple1)\n",
    "print(\"Maximum value in Tuple1:\", maximum)\n",
    "print(\"Minimum value in Tuple1:\", minimum)\n",
    "\n",
    "# Count and Index methods\n",
    "count_of_3 = tuple1.count(3)\n",
    "index_of_3 = tuple1.index(3)\n",
    "print(\"Count of 3 in Tuple1:\", count_of_3)\n",
    "print(\"Index of 3 in Tuple1:\", index_of_3)\n",
    "\n",
    "# Example of generating a tuple from a generator expression\n",
    "numbers = (1, 2, 3, 4, 5)\n",
    "squared_tuple = tuple(x**2 for x in numbers)\n",
    "print(squared_tuple)  # Output: (1, 4, 9, 16, 25)"
   ]
  },
  {
   "cell_type": "markdown",
   "metadata": {},
   "source": [
    "# <a id='toc3_'></a>[set](#toc0_)\n",
    "Sets are mutable, unordered collections (**unlike lists**) that do not allow duplicate elements (**unlike lists and tuples**). They are highly efficient for membership tests and eliminating duplicates, making them ideal for operations involving intersections, unions, and differences. Sets support a variety of dynamic operations like adding, removing, and set-specific methods that handle mathematical set operations. Below are the primary built-in methods that are used to create and manipulate sets."
   ]
  },
  {
   "cell_type": "markdown",
   "metadata": {},
   "source": [
    "#### <a id='toc3_1_1_1_'></a>[Common methods for sets](#toc0_)\n",
    "A set is instantiated by defining elements within curly braces like this `my_set = {1, 2, 3}`, or by using the `set()` constructor with an iterable, such as `set_from_list = set([4, 5, 6])`. An empty set is created using the `set()` constructor without any arguments, like this `empty_set = set()`, as `{}` creates an empty dictionary instead.\n",
    "\n",
    "Common operations performed on sets include:\n",
    "- **Addition** using the `.add(x)` method to add an element to the set.\n",
    "- **Removal** using methods like `.remove(x)`, which removes `x` from the set and raises a `KeyError` if `x` is not found, and `.discard(x)`, which removes `x` if present without raising an error.\n",
    "- **Comparing Sets** `union()` returns a new set containing all elements from both sets. `intersection()` returns a new set with elements common to both sets. `difference()` returns a new set with all elements from the first set that are not in the second set. `symmetric_difference()` returns a new set with elements in either of the sets but not in both.\n",
    "- **Membership Testing** using `in` and `not in` to check the presence of an element.\n",
    "- **Set Operations** such as union (`|`), intersection (`&`), difference (`-`), and symmetric difference (`^`) that allow computation of unions, intersections, and differences between sets.\n",
    "\n",
    "Sets support iteration and can be used in loops. Functions like `len()` provide the number of elements in the set. Due to their mutable nature but inherent uniqueness of elements, sets do not support indexing, slicing, or any ordered operations. Sets are particularly useful for fast membership testing, removing duplicates from data, and performing common set operations for mathematical purposes like forming unions or intersections."
   ]
  },
  {
   "cell_type": "code",
   "execution_count": null,
   "metadata": {},
   "outputs": [],
   "source": [
    "# Create sets\n",
    "set_a = {1, 2, 3, 4}\n",
    "set_b = {3, 4, 5, 6}\n",
    "\n",
    "# Add elements\n",
    "set_a.add(5)  # Adds element 5 to set_a\n",
    "print(\"After adding 5:\", set_a)\n",
    "\n",
    "# Remove elements\n",
    "set_a.remove(5)  # Removes element 5 from set_a\n",
    "print(\"After removing 5:\", set_a)\n",
    "\n",
    "# Discard an element (removes the element if it exists, does nothing if it doesn't)\n",
    "set_a.discard(10)  # Does nothing because 10 is not in set_a\n",
    "print(\"After discarding 10:\", set_a)\n",
    "\n",
    "# Check for membership\n",
    "print(\"Is 3 in set_b?\", 3 in set_b)\n",
    "\n",
    "# Union of two sets (all elements from both sets, no duplicates)\n",
    "union_set = set_a.union(set_b)\n",
    "print(\"Union of set_a and set_b:\", union_set)\n",
    "\n",
    "# Intersection of two sets (only elements common to both sets)\n",
    "intersection_set = set_a.intersection(set_b)\n",
    "print(\"Intersection of set_a and set_b:\", intersection_set)\n",
    "\n",
    "# Difference of two sets (elements in set_a but not in set_b)\n",
    "difference_set = set_a.difference(set_b)\n",
    "print(\"Difference of set_a and set_b:\", difference_set)\n",
    "\n",
    "# Symmetric difference (elements in either set_a or set_b but not in both)\n",
    "symmetric_difference_set = set_a.symmetric_difference(set_b)\n",
    "print(\"Symmetric difference of set_a and set_b:\", symmetric_difference_set)\n",
    "\n",
    "# Clear all elements from a set\n",
    "set_a.clear()\n",
    "print(\"After clearing set_a:\", set_a)"
   ]
  },
  {
   "cell_type": "markdown",
   "metadata": {},
   "source": [
    "# <a id='toc4_'></a>[dictionary](#toc0_)\n",
    "Dictionaries in Python are mutable, typically unordered (ordered by default from Python 3.7 onwards), and dynamic in size. They allow for efficient data mapping by associating unique, immutable keys with corresponding values, facilitating quick data retrieval and manipulation. Dictionaries are versatile, supporting multiple data types for both keys and values. They are essential for operations like adding new key-value pairs, updating values, and deleting entries. Below are the primary built-in methods that are used to create and manipulate dictionaries."
   ]
  },
  {
   "cell_type": "markdown",
   "metadata": {},
   "source": [
    "#### <a id='toc4_1_1_1_'></a>[Common methods](#toc0_)\n",
    "A dictionary is instantiated by defining key-value pairs within curly braces like this `my_dict = {'key1': 'value1', 'key2': 'value2'}`, or by using the `dict()` constructor with keyword arguments or from a sequence of key-value pairs, such as `dict_from_list = dict([('key1', 'value1'), ('key2', 'value2')])`. An empty dictionary is created using empty curly braces like this `empty_dict = {}`.\n",
    "\n",
    "Common operations performed on dictionaries include:\n",
    "- **Adding and Updating** using assignment such as `my_dict['new_key'] = 'new_value'` to add a new key-value pair or update an existing one.\n",
    "- **Removal** using methods like `.pop(key)`, which removes the key and returns its value, and raises a `KeyError` if the key is not found. The `.popitem()` method can be used to remove and return the last inserted key-value pair.\n",
    "- **Lookup** directly via keys like `value = my_dict['key1']` which retrieves the value for 'key1'.\n",
    "- **Iterating** through keys, values, or key-value pairs using `.keys()`, `.values()`, and `.items()` respectively.\n",
    "- **Checking Membership** of keys using `key in my_dict` to check if a key is present in the dictionary.\n",
    "- **Getting Values** with `.get(key, default)` which returns the value for `key` if it exists, otherwise it returns `default`.\n",
    "\n",
    "Dictionaries support iteration over their keys, values, or key-value pairs and can be used effectively in loops. Functions like `len()` provide the number of key-value pairs in the dictionary. Due to their dynamic and mutable nature, dictionaries are crucial for data storage where quick access and modification are required. They are particularly useful for implementing mappings, databases, caching systems, and so much more."
   ]
  },
  {
   "cell_type": "code",
   "execution_count": null,
   "metadata": {},
   "outputs": [],
   "source": [
    "# Create dictionaries\n",
    "dict_a = {'a': 5, 'b': 7}\n",
    "dict_b = {'b': 3, 'c': 9}\n",
    "\n",
    "# Add or update elements efficiently\n",
    "dict_a['c'] = dict_a.get('c', 0) + 4  # Adds 'c' with value 4 or increments by 4 if already exists\n",
    "dict_a['a'] = dict_a.get('a', 0) + 3  # Updates 'a' by adding 3 to the existing value\n",
    "print(\"After adding/updating efficiently:\", dict_a)\n",
    "\n",
    "# Remove elements\n",
    "value_removed = dict_a.pop('c')  # Removes 'c' from dict_a\n",
    "print(\"After removing 'c':\", dict_a)\n",
    "print(\"Value removed:\", value_removed)\n",
    "\n",
    "# Attempt to remove a non-existent key with pop\n",
    "value_removed = dict_a.pop('d', 'Not Found')  # Returns 'Not Found' since 'd' doesn't exist\n",
    "print(\"Attempt to remove non-existent key:\", value_removed)\n",
    "\n",
    "# Check for membership\n",
    "print(\"Is 'b' in dict_b?\", 'b' in dict_b)\n",
    "\n",
    "# Accessing a value\n",
    "print(\"Value of 'b' in dict_b:\", dict_b['b'])\n",
    "\n",
    "# Get a value with .get()\n",
    "print(\"Get value for 'c' with default:\", dict_b.get('c', 'Default Value'))\n",
    "\n",
    "# Iterating through keys, values, and items\n",
    "print(\"Keys in dict_a:\", list(dict_a.keys()))\n",
    "print(\"Values in dict_a:\", list(dict_a.values()))\n",
    "print(\"Items in dict_a:\", list(dict_a.items()))\n",
    "\n",
    "# Merging two dictionaries\n",
    "dict_a.update(dict_b)  # Updates dict_a with dict_b, adding new items and updating existing ones\n",
    "print(\"After merging dict_a and dict_b:\", dict_a)\n",
    "\n",
    "# Clear all elements from a dictionary\n",
    "dict_a.clear()\n",
    "print(\"After clearing dict_a:\", dict_a)\n"
   ]
  },
  {
   "cell_type": "markdown",
   "metadata": {},
   "source": [
    "#### <a id='toc4_1_1_2_'></a>[Dictionaries and strings](#toc0_)\n",
    "Dictionaries are often used to understand counts of elements, like instances of letters in a string. This can show the most frequent character in a string, and can provide the data to sort by frequency (based on value) or see how many more times a character is in one string compared to another. See below for some examples of this type of syntax."
   ]
  },
  {
   "cell_type": "code",
   "execution_count": null,
   "metadata": {},
   "outputs": [],
   "source": [
    "# Define a couple of strings\n",
    "strings = [\"hello world\", \"python programming\"]\n",
    "\n",
    "# Count occurrences of each letter in each string using a dictionary comprehension\n",
    "letter_counts = {}\n",
    "for string in strings:\n",
    "    for char in string:\n",
    "        if char.isalpha():  # Ensure only alphabetic characters are counted\n",
    "            letter_counts[char] = letter_counts.get(char, 0) + 1\n",
    "\n",
    "# Print the total counts of each letter\n",
    "print(\"Letter counts:\", letter_counts)\n",
    "\n",
    "# Find the most frequent character\n",
    "most_frequent_char = max(letter_counts, key=letter_counts.get)\n",
    "print(\"Most frequent character:\", most_frequent_char, \"with\", letter_counts[most_frequent_char], \"occurrences.\")\n",
    "\n",
    "# Sort the dictionary by frequency of letters using a comprehension\n",
    "sorted_by_frequency = sorted([(key, value) for key, value in letter_counts.items()], key=lambda item: item[1], reverse=True)\n",
    "print(\"Letters sorted by frequency:\", sorted_by_frequency)"
   ]
  },
  {
   "cell_type": "markdown",
   "metadata": {},
   "source": [
    "# <a id='toc5_'></a>[string](#toc0_)"
   ]
  },
  {
   "cell_type": "markdown",
   "metadata": {},
   "source": [
    "# <a id='toc6_'></a>[queue](#toc0_)"
   ]
  },
  {
   "cell_type": "markdown",
   "metadata": {},
   "source": [
    "# <a id='toc7_'></a>[array](#toc0_)"
   ]
  },
  {
   "cell_type": "markdown",
   "metadata": {},
   "source": [
    "# <a id='toc8_'></a>[DataFrame](#toc0_)"
   ]
  },
  {
   "cell_type": "markdown",
   "metadata": {},
   "source": [
    "# <a id='toc9_'></a>[linked list](#toc0_)"
   ]
  },
  {
   "cell_type": "markdown",
   "metadata": {},
   "source": [
    "# <a id='toc10_'></a>[tree](#toc0_)"
   ]
  },
  {
   "cell_type": "markdown",
   "metadata": {},
   "source": [
    "# <a id='toc11_'></a>[graph](#toc0_)"
   ]
  },
  {
   "cell_type": "markdown",
   "metadata": {},
   "source": []
  }
 ],
 "metadata": {
  "kernelspec": {
   "display_name": ".venv",
   "language": "python",
   "name": "python3"
  },
  "language_info": {
   "codemirror_mode": {
    "name": "ipython",
    "version": 3
   },
   "file_extension": ".py",
   "mimetype": "text/x-python",
   "name": "python",
   "nbconvert_exporter": "python",
   "pygments_lexer": "ipython3",
   "version": "3.9.13"
  }
 },
 "nbformat": 4,
 "nbformat_minor": 2
}
