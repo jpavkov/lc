{
 "cells": [
  {
   "cell_type": "markdown",
   "metadata": {},
   "source": [
    "**Table of Contents**\n",
    "1. [list](#list)\n",
    "2. [tuple](#tuple)\n",
    "3. [set](#set)\n",
    "4. [dictionary](#dictionary)\n",
    "5. [string](#string)\n",
    "6. [queue](#queue)\n",
    "7. [array](#array)\n",
    "8. [linked list](#linked-list)\n",
    "9. [tree](#tree)\n",
    "10. [graph](#graph)"
   ]
  },
  {
   "cell_type": "markdown",
   "metadata": {},
   "source": [
    "# list\n",
    "Lists are mutable, ordered and dynamic in size. They are flexible, allowing for multiple data types within the same list. A list is great for a variety of operations like appending, removing, slicing and sorting. Below are the primary built-in methods that are used to create and manipulate lists."
   ]
  },
  {
   "cell_type": "markdown",
   "metadata": {},
   "source": [
    "#### Common methods\n",
    "A list is instantiated by creating an empty container like this `my_list = []`, by defining another structure (like a tuple) as a list like this `my_list = list((2, 3, 4, 5))`, or by directly adding elements to a list in the definition like this `my_list = [1, 2, 3, 4, 5]` Common methods applied to a list are `append`, `extend`, `insert`, `remove`, `pop`, `index`, `count`, `sort`, `reverse`, `copy` and `clear`."
   ]
  },
  {
   "cell_type": "code",
   "execution_count": 1,
   "metadata": {},
   "outputs": [
    {
     "name": "stdout",
     "output_type": "stream",
     "text": [
      "After append: [10, 20, 30, 40, 50]\n",
      "After extend: [10, 20, 30, 40, 50, 60, 70]\n",
      "After insert: [10, 20, 25, 30, 40, 50, 60, 70]\n",
      "After remove: [10, 20, 25, 30, 50, 60, 70]\n",
      "Popped item: 30\n",
      "After pop: [10, 20, 25, 50, 60, 70]\n",
      "Index of 25: 2\n",
      "Count of 20: 1\n",
      "After sort: [10, 20, 25, 50, 60, 70]\n",
      "After reverse: [70, 60, 50, 25, 20, 10]\n",
      "Copy of numbers: [70, 60, 50, 25, 20, 10]\n",
      "After clear: []\n"
     ]
    }
   ],
   "source": [
    "# Creating a list of integers\n",
    "numbers = [10, 20, 30, 40]\n",
    "\n",
    "# Appending an item\n",
    "numbers.append(50)\n",
    "print(\"After append:\", numbers)  # Output: [10, 20, 30, 40, 50]\n",
    "\n",
    "# Extending the list\n",
    "numbers.extend([60, 70])\n",
    "print(\"After extend:\", numbers)  # Output: [10, 20, 30, 40, 50, 60, 70]\n",
    "\n",
    "# Inserting an item\n",
    "numbers.insert(2, 25)\n",
    "print(\"After insert:\", numbers)  # Output: [10, 20, 25, 30, 40, 50, 60, 70]\n",
    "\n",
    "# Removing an item\n",
    "numbers.remove(40)\n",
    "print(\"After remove:\", numbers)  # Output: [10, 20, 25, 30, 50, 60, 70]\n",
    "\n",
    "# Popping an item\n",
    "popped_item = numbers.pop(3)\n",
    "print(\"Popped item:\", popped_item)  # Output: 30\n",
    "print(\"After pop:\", numbers)        # Output: [10, 20, 25, 50, 60, 70]\n",
    "\n",
    "# Finding the index of an item\n",
    "index = numbers.index(25)\n",
    "print(\"Index of 25:\", index)  # Output: 2\n",
    "\n",
    "# Counting the occurrences of an item\n",
    "count = numbers.count(20)\n",
    "print(\"Count of 20:\", count)  # Output: 1\n",
    "\n",
    "# Sorting the list\n",
    "numbers.sort()\n",
    "print(\"After sort:\", numbers)  # Output: [10, 20, 25, 50, 60, 70]\n",
    "\n",
    "# Reversing the list\n",
    "numbers.reverse()\n",
    "print(\"After reverse:\", numbers)  # Output: [70, 60, 50, 25, 20, 10]\n",
    "\n",
    "# Copying the list\n",
    "numbers_copy = numbers.copy()\n",
    "print(\"Copy of numbers:\", numbers_copy)  # Output: [70, 60, 50, 25, 20, 10]\n",
    "\n",
    "# Clearing the list\n",
    "numbers.clear()\n",
    "print(\"After clear:\", numbers)  # Output: []\n"
   ]
  },
  {
   "cell_type": "markdown",
   "metadata": {},
   "source": [
    "# tuple"
   ]
  },
  {
   "cell_type": "markdown",
   "metadata": {},
   "source": [
    "# set"
   ]
  },
  {
   "cell_type": "markdown",
   "metadata": {},
   "source": [
    "# dictionary"
   ]
  },
  {
   "cell_type": "markdown",
   "metadata": {},
   "source": [
    "# string"
   ]
  },
  {
   "cell_type": "markdown",
   "metadata": {},
   "source": [
    "# queue"
   ]
  },
  {
   "cell_type": "markdown",
   "metadata": {},
   "source": [
    "# array"
   ]
  },
  {
   "cell_type": "markdown",
   "metadata": {},
   "source": [
    "# linked list"
   ]
  },
  {
   "cell_type": "markdown",
   "metadata": {},
   "source": [
    "# tree"
   ]
  },
  {
   "cell_type": "markdown",
   "metadata": {},
   "source": [
    "# graph"
   ]
  },
  {
   "cell_type": "markdown",
   "metadata": {},
   "source": []
  }
 ],
 "metadata": {
  "kernelspec": {
   "display_name": ".venv",
   "language": "python",
   "name": "python3"
  },
  "language_info": {
   "codemirror_mode": {
    "name": "ipython",
    "version": 3
   },
   "file_extension": ".py",
   "mimetype": "text/x-python",
   "name": "python",
   "nbconvert_exporter": "python",
   "pygments_lexer": "ipython3",
   "version": "3.9.13"
  }
 },
 "nbformat": 4,
 "nbformat_minor": 2
}
