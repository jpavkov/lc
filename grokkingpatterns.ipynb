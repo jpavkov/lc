{
 "cells": [
  {
   "cell_type": "markdown",
   "metadata": {},
   "source": [
    "# Grokking the Coding Interview: Patterns for Coding Questions"
   ]
  },
  {
   "cell_type": "markdown",
   "metadata": {},
   "source": [
    "**Table of contents**<a id='toc0_'></a>    \n",
    "1. [Two Pointers](#toc1_)    \n",
    "2. [Fast & Slow Pointers](#toc2_)    \n",
    "3. [Sliding Window](#toc3_)    \n",
    "4. [Merge Intervals](#toc4_)    \n",
    "5. [Cyclic Sort](#toc5_)    \n",
    "6. [In-place Reversal of a Linked List](#toc6_)    \n",
    "7. [Stacks](#toc7_)    \n",
    "8. [Monotonic Stack](#toc8_)    \n",
    "9. [Hash Maps](#toc9_)    \n",
    "10. [Tree Breadth First Search](#toc10_)    \n",
    "11. [Tree Depth First Search](#toc11_)    \n",
    "12. [Graphs](#toc12_)    \n",
    "13. [Island (Matrix Traversal)](#toc13_)    \n",
    "14. [Two Heaps](#toc14_)    \n",
    "15. [Subsets](#toc15_)    \n",
    "16. [Modified Binary Search](#toc16_)    \n",
    "17. [Bitwise XOR](#toc17_)    \n",
    "18. [Top 'K' Elements](#toc18_)    \n",
    "19. [K-way Merge](#toc19_)    \n",
    "20. [Greedy Algorithms](#toc20_)    \n",
    "21. [0/1 Knapsack (Dynamic Programming)](#toc21_)    \n",
    "22. [Backtracking](#toc22_)    \n",
    "23. [Trie](#toc23_)    \n",
    "24. [Topological Sort](#toc24_)    \n",
    "25. [Union Find](#toc25_)    \n",
    "26. [Ordered Set](#toc26_)    \n",
    "27. [Prefix Sum](#toc27_)    \n",
    "28. [Multi-threaded](#toc28_)    \n",
    "\n",
    "<!-- vscode-jupyter-toc-config\n",
    "\tnumbering=true\n",
    "\tanchor=true\n",
    "\tflat=true\n",
    "\tminLevel=2\n",
    "\tmaxLevel=6\n",
    "\t/vscode-jupyter-toc-config -->\n",
    "<!-- THIS CELL WILL BE REPLACED ON TOC UPDATE. DO NOT WRITE YOUR TEXT IN THIS CELL -->"
   ]
  },
  {
   "cell_type": "markdown",
   "metadata": {},
   "source": [
    "## 1. <a id='toc1_'></a>[Two Pointers](#toc0_)\n",
    "## 2. <a id='toc2_'></a>[Fast & Slow Pointers](#toc0_)\n",
    "## 3. <a id='toc3_'></a>[Sliding Window](#toc0_)\n",
    "## 4. <a id='toc4_'></a>[Merge Intervals](#toc0_)\n",
    "## 5. <a id='toc5_'></a>[Cyclic Sort](#toc0_)\n",
    "## 6. <a id='toc6_'></a>[In-place Reversal of a Linked List](#toc0_)\n",
    "## 7. <a id='toc7_'></a>[Stacks](#toc0_)\n",
    "## 8. <a id='toc8_'></a>[Monotonic Stack](#toc0_)\n",
    "## 9. <a id='toc9_'></a>[Hash Maps](#toc0_)\n",
    "## 10. <a id='toc10_'></a>[Tree Breadth First Search](#toc0_)\n",
    "## 11. <a id='toc11_'></a>[Tree Depth First Search](#toc0_)\n",
    "## 12. <a id='toc12_'></a>[Graphs](#toc0_)\n",
    "## 13. <a id='toc13_'></a>[Island (Matrix Traversal)](#toc0_)\n",
    "## 14. <a id='toc14_'></a>[Two Heaps](#toc0_)\n",
    "## 15. <a id='toc15_'></a>[Subsets](#toc0_)\n",
    "## 16. <a id='toc16_'></a>[Modified Binary Search](#toc0_)\n",
    "## 17. <a id='toc17_'></a>[Bitwise XOR](#toc0_)\n",
    "## 18. <a id='toc18_'></a>[Top 'K' Elements](#toc0_)\n",
    "## 19. <a id='toc19_'></a>[K-way Merge](#toc0_)"
   ]
  },
  {
   "cell_type": "markdown",
   "metadata": {},
   "source": [
    "## 20. <a id='toc20_'></a>[Greedy Algorithms](#toc0_)\n",
    "Key Concept: Pick the next locally optimal solution\n",
    "\n",
    "**The Knapsack Problem**\n",
    "You have a knapsack that can hold 35 lbs, so you want to optimize for the most expensive set of things you can steal. If you have 3 items: Stereo (30 lbs, $3k), laptop (20 lbs, $2k), guitar (15 lbs, $1.5k), then greedy won't work. You'd end up with the stereo (locally optimal at the first step), but the laptop + guitar would be better.\n",
    "\n",
    "**The Set-covering Problem**\n",
    "You have radio stations that cover 1 or more states. You want to minimize the number of stations you pay to advertize on, while still reaching all states. There are 2 ways to solve this:\n",
    "1. Take every subset of stations and see which one has the smallest number of stations but covers all 50 states. Runtime: O(2^n)\n",
    "2. Greedy approximztion: Pick the station that covers the most states that haven't been covered yet (it's ok if there's overlap with states that are already covered). Repeat this until all states are covered. Runtime: O(n^2)"
   ]
  },
  {
   "cell_type": "code",
   "execution_count": 1,
   "metadata": {},
   "outputs": [
    {
     "name": "stdout",
     "output_type": "stream",
     "text": [
      "{'kfive', 'kone', 'kthree', 'ktwo'}\n"
     ]
    }
   ],
   "source": [
    "states_needed = set([\"mt\",\"wa\",\"or\",\"id\",\"nv\",\"ut\",\"ca\",\"az\"])\n",
    "\n",
    "stations = {}\n",
    "stations[\"kone\"] = set([\"id\",\"nv\",\"ut\"])\n",
    "stations[\"ktwo\"] = set([\"wa\",\"id\",\"mt\"])\n",
    "stations[\"kthree\"] = set([\"or\",\"nv\",\"ca\"])\n",
    "stations[\"kfour\"] = set([\"nv\",\"ut\"])\n",
    "stations[\"kfive\"] = set([\"ca\",\"az\"])\n",
    "\n",
    "final_stations = set()\n",
    "\n",
    "while states_needed:\n",
    "    best_station = None\n",
    "    states_covered = set()\n",
    "    for station, states in stations.items():\n",
    "        covered = states_needed & states\n",
    "        if len(covered) > len(states_covered):\n",
    "            best_station = station\n",
    "            states_covered = covered\n",
    "    \n",
    "    states_needed -= states_covered\n",
    "    final_stations.add(best_station)\n",
    "\n",
    "print(final_stations)"
   ]
  },
  {
   "cell_type": "markdown",
   "metadata": {},
   "source": [
    "## 21. <a id='toc21_'></a>[0/1 Knapsack (Dynamic Programming)](#toc0_)\n",
    "**When to use DP?**\n",
    "\n",
    "There are two main characteristics of a good DP problem:\n",
    "1. The problem will be asking for an optimal value (max or min) of something or the number of ways to do something:\n",
    "- What is the minimum cost of doing...\n",
    "- What is the maximum profit of...\n",
    "- How many ways are there to...\n",
    "- What is the longest possible...\n",
    "\n",
    "2. At each step, you need to make a \"decision\", and decisions affect future decisions:\n",
    "- A decision could be picking between two elements\n",
    "- Decisions affecting future decisions could be something like \"if you take an element 'x', then you can't take an element 'y' in the future\"\n",
    "\n",
    "*Note:* on the first characteristic: not all problems that are in these formats are meant to be solved with DP, and not all DP problems are in one of these formats. It's just a general guideline.\n",
    "\n",
    "*Note:* on the second characteristic: This is usually what seperates greedy and DP. Greedy algorithms are where local decisions don't impact other decisions.\n",
    "\n",
    "DP can de solved in two different ways: Top down and bottom up. We'll look at Fibonacci as an example, and spcifically 3 different ways to solve it:\n",
    "1. Without **memoization**: This approach means we don't save any states, but rather visit every possibility\n",
    "2. Top Down with **memoization**: This approach uses recursion to save each state that is visited for future reference\n",
    "3. Bottom up with **memoization**: This approach saves each state in an array for future reference, starting with the base case and working up"
   ]
  },
  {
   "cell_type": "code",
   "execution_count": null,
   "metadata": {},
   "outputs": [],
   "source": [
    "## Without memoization\n",
    "def fibonacci(n):\n",
    "    if n == 0:\n",
    "        return 0\n",
    "    if n == 1:\n",
    "        return 1\n",
    "    \n",
    "    return fibonacci(n - 1) + fibonacci(n - 2)"
   ]
  },
  {
   "cell_type": "code",
   "execution_count": 2,
   "metadata": {},
   "outputs": [],
   "source": [
    "## With memoization (and recursion)\n",
    "def fibonacci(n):\n",
    "    if n == 0:\n",
    "        return 0\n",
    "    if n == 1:\n",
    "        return 1\n",
    "    \n",
    "    if n in memo:\n",
    "        return memo[n]\n",
    "    \n",
    "    memo[n] = fibonacci(n - 1) + fibonacci(n - 2)\n",
    "    return memo[n]\n",
    "\n",
    "memo = {}"
   ]
  },
  {
   "cell_type": "code",
   "execution_count": null,
   "metadata": {},
   "outputs": [],
   "source": [
    "## With memoization (bottom up)\n",
    "def fibonacci(n):\n",
    "    arr = [0] * (n - 1)\n",
    "    arr[1] = 1\n",
    "    for i in range(2, n + 1):\n",
    "        arr[i] = arr[i - 1] + arr[i - 2]\n",
    "\n",
    "    return arr[n]"
   ]
  },
  {
   "cell_type": "markdown",
   "metadata": {},
   "source": [
    "**State** - a set of variables that can fully describe a scenario\n",
    "\n",
    "Common state variables to consider:\n",
    "1. An index along an input string, array or number. For example, with Fibonacci, the \"index\" refers to the current Fibonacci number.\n",
    "2. A second index along an input string or array.\n",
    "3. Explicit numerical constraints given in the problem. This will usually be given in the input as 'k'. For example, \"you are allowed to remove 'k' obstacles\".\n",
    "4. A boolean to describe a status. For example, \"true if currently holding a package, false if not\".\n",
    "\n",
    "*Note:* The number of state variables used is the dimensionality of an algorithm. For example, if an algorithm uses only one variable like 'i', it is one dimensional. If a problem has multiple state variables, it is multi-dimensional. Some problems may have as many as 5 dimensions."
   ]
  },
  {
   "cell_type": "markdown",
   "metadata": {},
   "source": [
    "\n",
    "## 22. <a id='toc22_'></a>[Backtracking](#toc0_)\n",
    "## 23. <a id='toc23_'></a>[Trie](#toc0_)\n",
    "## 24. <a id='toc24_'></a>[Topological Sort](#toc0_)\n",
    "## 25. <a id='toc25_'></a>[Union Find](#toc0_)\n",
    "## 26. <a id='toc26_'></a>[Ordered Set](#toc0_)\n",
    "## 27. <a id='toc27_'></a>[Prefix Sum](#toc0_)\n",
    "## 28. <a id='toc28_'></a>[Multi-threaded](#toc0_)"
   ]
  }
 ],
 "metadata": {
  "kernelspec": {
   "display_name": "Python 3",
   "language": "python",
   "name": "python3"
  },
  "language_info": {
   "codemirror_mode": {
    "name": "ipython",
    "version": 3
   },
   "file_extension": ".py",
   "mimetype": "text/x-python",
   "name": "python",
   "nbconvert_exporter": "python",
   "pygments_lexer": "ipython3",
   "version": "3.12.1"
  }
 },
 "nbformat": 4,
 "nbformat_minor": 2
}
