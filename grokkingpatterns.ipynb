{
 "cells": [
  {
   "cell_type": "markdown",
   "metadata": {},
   "source": [
    "# Grokking the Coding Interview: Patterns for Coding Questions"
   ]
  },
  {
   "cell_type": "markdown",
   "metadata": {},
   "source": [
    "**Table of contents**<a id='toc0_'></a>    \n",
    "1. [Two Pointers](#toc1_)    \n",
    "2. [Fast & Slow Pointers](#toc2_)    \n",
    "3. [Sliding Window](#toc3_)    \n",
    "4. [Merge Intervals](#toc4_)    \n",
    "5. [Cyclic Sort](#toc5_)    \n",
    "6. [In-place Reversal of a Linked List](#toc6_)    \n",
    "7. [Stacks](#toc7_)    \n",
    "8. [Monotonic Stack](#toc8_)    \n",
    "9. [Hash Maps](#toc9_)    \n",
    "10. [Tree Breadth First Search](#toc10_)    \n",
    "11. [Tree Depth First Search](#toc11_)    \n",
    "12. [Graphs](#toc12_)    \n",
    "13. [Island (Matrix Traversal)](#toc13_)    \n",
    "14. [Two Heaps](#toc14_)    \n",
    "15. [Subsets](#toc15_)    \n",
    "16. [Modified Binary Search](#toc16_)    \n",
    "17. [Bitwise XOR](#toc17_)    \n",
    "18. [Top 'K' Elements](#toc18_)    \n",
    "19. [K-way Merge](#toc19_)    \n",
    "20. [Greedy Algorithms](#toc20_)    \n",
    "21. [0/1 Knapsack (Dynamic Programming)](#toc21_)    \n",
    "22. [Backtracking](#toc22_)    \n",
    "23. [Trie](#toc23_)    \n",
    "24. [Topological Sort](#toc24_)    \n",
    "25. [Union Find](#toc25_)    \n",
    "26. [Ordered Set](#toc26_)    \n",
    "27. [Prefix Sum](#toc27_)    \n",
    "28. [Multi-threaded](#toc28_)    \n",
    "\n",
    "<!-- vscode-jupyter-toc-config\n",
    "\tnumbering=true\n",
    "\tanchor=true\n",
    "\tflat=true\n",
    "\tminLevel=2\n",
    "\tmaxLevel=6\n",
    "\t/vscode-jupyter-toc-config -->\n",
    "<!-- THIS CELL WILL BE REPLACED ON TOC UPDATE. DO NOT WRITE YOUR TEXT IN THIS CELL -->"
   ]
  },
  {
   "cell_type": "markdown",
   "metadata": {},
   "source": [
    "## 1. <a id='toc1_'></a>[Two Pointers](#toc0_)\n",
    "## 2. <a id='toc2_'></a>[Fast & Slow Pointers](#toc0_)\n",
    "## 3. <a id='toc3_'></a>[Sliding Window](#toc0_)\n",
    "## 4. <a id='toc4_'></a>[Merge Intervals](#toc0_)\n",
    "## 5. <a id='toc5_'></a>[Cyclic Sort](#toc0_)\n",
    "## 6. <a id='toc6_'></a>[In-place Reversal of a Linked List](#toc0_)\n",
    "## 7. <a id='toc7_'></a>[Stacks](#toc0_)\n",
    "## 8. <a id='toc8_'></a>[Monotonic Stack](#toc0_)\n",
    "## 9. <a id='toc9_'></a>[Hash Maps](#toc0_)\n",
    "## 10. <a id='toc10_'></a>[Tree Breadth First Search](#toc0_)\n",
    "## 11. <a id='toc11_'></a>[Tree Depth First Search](#toc0_)\n",
    "## 12. <a id='toc12_'></a>[Graphs](#toc0_)\n",
    "## 13. <a id='toc13_'></a>[Island (Matrix Traversal)](#toc0_)\n",
    "## 14. <a id='toc14_'></a>[Two Heaps](#toc0_)\n",
    "## 15. <a id='toc15_'></a>[Subsets](#toc0_)\n",
    "## 16. <a id='toc16_'></a>[Modified Binary Search](#toc0_)\n",
    "## 17. <a id='toc17_'></a>[Bitwise XOR](#toc0_)\n",
    "## 18. <a id='toc18_'></a>[Top 'K' Elements](#toc0_)\n",
    "## 19. <a id='toc19_'></a>[K-way Merge](#toc0_)\n",
    "## 20. <a id='toc20_'></a>[Greedy Algorithms](#toc0_)\n",
    "## 21. <a id='toc21_'></a>[0/1 Knapsack (Dynamic Programming)](#toc0_)\n",
    "## 22. <a id='toc22_'></a>[Backtracking](#toc0_)\n",
    "## 23. <a id='toc23_'></a>[Trie](#toc0_)\n",
    "## 24. <a id='toc24_'></a>[Topological Sort](#toc0_)\n",
    "## 25. <a id='toc25_'></a>[Union Find](#toc0_)\n",
    "## 26. <a id='toc26_'></a>[Ordered Set](#toc0_)\n",
    "## 27. <a id='toc27_'></a>[Prefix Sum](#toc0_)\n",
    "## 28. <a id='toc28_'></a>[Multi-threaded](#toc0_)"
   ]
  }
 ],
 "metadata": {
  "language_info": {
   "name": "python"
  }
 },
 "nbformat": 4,
 "nbformat_minor": 2
}
